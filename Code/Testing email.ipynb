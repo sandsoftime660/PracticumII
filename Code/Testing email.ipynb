{
 "cells": [
  {
   "source": [
    "# This notebook will test email server creation and sending"
   ],
   "cell_type": "markdown",
   "metadata": {}
  },
  {
   "cell_type": "code",
   "execution_count": 1,
   "metadata": {},
   "outputs": [
    {
     "name": "stdout",
     "output_type": "stream",
     "text": [
      "message sent\n"
     ]
    }
   ],
   "source": [
    "import smtplib, ssl\n",
    "port = 465  # For SSL\n",
    "smtp_server = \"smtp.gmail.com\"\n",
    "password = \"pass\"\n",
    "receiver = 'myemail@email.com'\n",
    "sender = 'myemail@email.com'\n",
    "# message_subject = \"Work Comp Model Independent Feature Distribution Differences Found\"\n",
    "message = \"\"\"\\\n",
    "Subject: Work Comp Model Independent Feature Distribution Differences Found\n",
    "To: {}\n",
    "From: {}\n",
    "\n",
    "\n",
    "There were differences found in feature distributions. Here are the features that may be drifting:\n",
    "\n",
    "\n",
    "\n",
    "Please visit the dashboard to verify results @ http://127.0.0.1:5000/dashboard \"\"\".format(receiver, sender)\n",
    "\n",
    "\n",
    "context = ssl.create_default_context()\n",
    "with smtplib.SMTP_SSL(smtp_server, port, context=context) as server:\n",
    "    server.login(sender, password)\n",
    "    server.sendmail(sender, receiver, message)\n",
    "print('message sent')"
   ]
  }
 ],
 "metadata": {
  "kernelspec": {
   "display_name": "Python [conda env:.conda-school]",
   "language": "python",
   "name": "conda-env-.conda-school-py"
  },
  "language_info": {
   "codemirror_mode": {
    "name": "ipython",
    "version": 3
   },
   "file_extension": ".py",
   "mimetype": "text/x-python",
   "name": "python",
   "nbconvert_exporter": "python",
   "pygments_lexer": "ipython3",
   "version": "3.7.9"
  }
 },
 "nbformat": 4,
 "nbformat_minor": 4
}